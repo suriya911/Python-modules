{
 "cells": [
  {
   "cell_type": "code",
   "execution_count": 1,
   "metadata": {},
   "outputs": [],
   "source": [
    "from fractions import Fraction"
   ]
  },
  {
   "cell_type": "code",
   "execution_count": 13,
   "metadata": {},
   "outputs": [
    {
     "name": "stdout",
     "output_type": "stream",
     "text": [
      "Fraction created with numerator and denominator (3/4): 3/4\n",
      "Fraction created from string ('1/5'): 1/5\n",
      "Fraction created from decimal (0.75): 3/4\n",
      "Fraction created from decimal with limited denominator (3.14159): 22/7\n"
     ]
    }
   ],
   "source": [
    "# Section 1: Creating Fractions\n",
    "# Different ways to create fractions in Python\n",
    "\n",
    "# Creating a fraction using numerator and denominator (3/4)\n",
    "f1 = Fraction(3, 4)\n",
    "print(\"Fraction created with numerator and denominator (3/4):\", f1)\n",
    "\n",
    "# Creating a fraction from a string ('1/5')\n",
    "f2 = Fraction(\"1/5\")\n",
    "print(\"Fraction created from string ('1/5'):\", f2)\n",
    "\n",
    "# Creating a fraction from a decimal (0.75)\n",
    "f3 = Fraction(0.75)\n",
    "print(\"Fraction created from decimal (0.75):\", f3)\n",
    "\n",
    "# Creating a fraction from a decimal with limited denominator (3.14159)\n",
    "f4 = Fraction(3.14159).limit_denominator(10)\n",
    "print(\"Fraction created from decimal with limited denominator (3.14159):\", f4)"
   ]
  },
  {
   "cell_type": "code",
   "execution_count": 3,
   "metadata": {},
   "outputs": [
    {
     "name": "stdout",
     "output_type": "stream",
     "text": [
      "Adding fractions (3/4 + 1/5): 19/20\n",
      "Subtracting fractions (3/4 - 1/5): 11/20\n",
      "Multiplying fractions (3/4 * 1/5): 3/20\n",
      "Dividing fractions (3/4 / 1/5): 15/4\n",
      "Integer division of fractions (3/4 // 1/5): 3\n",
      "Modulo operation on fractions (3/4 % 1/5): 3/20\n"
     ]
    }
   ],
   "source": [
    "# Section 2: Basic Fraction Operations\n",
    "# Performing arithmetic operations with fractions\n",
    "\n",
    "print(\"Adding fractions (3/4 + 1/5):\", f1 + f2)\n",
    "print(\"Subtracting fractions (3/4 - 1/5):\", f1 - f2)\n",
    "print(\"Multiplying fractions (3/4 * 1/5):\", f1 * f2)\n",
    "print(\"Dividing fractions (3/4 / 1/5):\", f1 / f2)\n",
    "print(\"Integer division of fractions (3/4 // 1/5):\", f1 // f2)\n",
    "print(\"Modulo operation on fractions (3/4 % 1/5):\", f1 % f2)"
   ]
  },
  {
   "cell_type": "code",
   "execution_count": 4,
   "metadata": {},
   "outputs": [
    {
     "name": "stdout",
     "output_type": "stream",
     "text": [
      "Adding a fraction and a decimal-based fraction (3/4 + 4.14159): 1541/396\n",
      "Multiplying a string-based fraction and a decimal-based fraction (1/5 * 0.75): 3/20\n",
      "Subtracting a fraction from a decimal-based fraction (4.14159 - 3/4): 947/396\n",
      "Dividing a decimal-based fraction by a string-based fraction (0.75 / 1/5): 15/4\n",
      "Adding a string-based fraction and a decimal-based fraction (1/5 + 0.75): 19/20\n"
     ]
    }
   ],
   "source": [
    "# Section 3: Mixed Fraction Operations\n",
    "# Operations with different types of fractions\n",
    "\n",
    "print(\"Adding a fraction and a decimal-based fraction (3/4 + 4.14159):\", f1 + f4)\n",
    "print(\"Multiplying a string-based fraction and a decimal-based fraction (1/5 * 0.75):\", f2 * f3)\n",
    "print(\"Subtracting a fraction from a decimal-based fraction (4.14159 - 3/4):\", f4 - f1)\n",
    "print(\"Dividing a decimal-based fraction by a string-based fraction (0.75 / 1/5):\", f3 / f2)\n",
    "print(\"Adding a string-based fraction and a decimal-based fraction (1/5 + 0.75):\", f2 + f3)"
   ]
  },
  {
   "cell_type": "code",
   "execution_count": 5,
   "metadata": {},
   "outputs": [
    {
     "name": "stdout",
     "output_type": "stream",
     "text": [
      "Numerator of 3/4: 3\n",
      "Denominator of 3/4: 4\n",
      "Fraction as integer ratio (3/4): (3, 4)\n"
     ]
    }
   ],
   "source": [
    "# Section 4: Fraction Properties\n",
    "# Accessing and displaying fraction properties\n",
    "\n",
    "print(\"Numerator of 3/4:\", f1.numerator)\n",
    "print(\"Denominator of 3/4:\", f1.denominator)\n",
    "print(\"Fraction as integer ratio (3/4):\", f1.as_integer_ratio())"
   ]
  },
  {
   "cell_type": "code",
   "execution_count": 6,
   "metadata": {},
   "outputs": [
    {
     "name": "stdout",
     "output_type": "stream",
     "text": [
      "Creating a fraction from 0.333... (1/3): 1/3\n",
      "Creating a fraction from 0.666... (2/3): 2/3\n",
      "Creating a fraction from 0.125 (1/8): 1/8\n",
      "Creating a fraction from 0.375 (3/8): 3/8\n"
     ]
    }
   ],
   "source": [
    "# Section 5: Additional Fraction Examples\n",
    "# More examples of fraction operations\n",
    "\n",
    "print(\"Creating a fraction from 0.333... (1/3):\", Fraction(1, 3))\n",
    "print(\"Creating a fraction from 0.666... (2/3):\", Fraction(2, 3))\n",
    "print(\"Creating a fraction from 0.125 (1/8):\", Fraction(0.125))\n",
    "print(\"Creating a fraction from 0.375 (3/8):\", Fraction(0.375))"
   ]
  }
 ],
 "metadata": {
  "kernelspec": {
   "display_name": "base",
   "language": "python",
   "name": "python3"
  },
  "language_info": {
   "codemirror_mode": {
    "name": "ipython",
    "version": 3
   },
   "file_extension": ".py",
   "mimetype": "text/x-python",
   "name": "python",
   "nbconvert_exporter": "python",
   "pygments_lexer": "ipython3",
   "version": "3.12.7"
  }
 },
 "nbformat": 4,
 "nbformat_minor": 2
}
