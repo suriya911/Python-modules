{
 "cells": [
  {
   "cell_type": "code",
   "execution_count": 1,
   "metadata": {},
   "outputs": [],
   "source": [
    "import math"
   ]
  },
  {
   "cell_type": "code",
   "execution_count": 2,
   "metadata": {},
   "outputs": [
    {
     "name": "stdout",
     "output_type": "stream",
     "text": [
      "3.141592653589793\n",
      "2.718281828459045\n",
      "6.283185307179586\n",
      "inf\n",
      "nan\n"
     ]
    }
   ],
   "source": [
    "# Section 1: Basic Mathematical Constants\n",
    "# These are special numbers that are used frequently in mathematics\n",
    "print(\"Pi (π) is the ratio of a circle's circumference to its diameter:\", math.pi)\n",
    "print(\"Euler's number (e) is used in natural growth calculations:\", math.e)\n",
    "print(\"Tau (τ) is twice pi, used in circular calculations:\", math.tau)\n",
    "print(\"Infinity (∞) represents a value larger than any real number:\", math.inf)\n",
    "print(\"Not a Number (NaN) represents an undefined value:\", math.nan)"
   ]
  },
  {
   "cell_type": "code",
   "execution_count": 4,
   "metadata": {},
   "outputs": [
    {
     "name": "stdout",
     "output_type": "stream",
     "text": [
      "1\n",
      "2\n",
      "1\n",
      "1.4\n"
     ]
    }
   ],
   "source": [
    "# Section 2: Number Rounding and Absolute Value Functions\n",
    "# These functions help us round numbers and find their absolute values\n",
    "print(\"Floor rounds down to the nearest whole number:\", math.floor(1.4))\n",
    "print(\"Ceiling rounds up to the nearest whole number:\", math.ceil(1.4))\n",
    "print(\"Truncate removes the decimal part:\", math.trunc(1.4))\n",
    "print(\"Absolute value removes the negative sign:\", math.fabs(-1.4))\n"
   ]
  },
  {
   "cell_type": "code",
   "execution_count": 5,
   "metadata": {},
   "outputs": [
    {
     "name": "stdout",
     "output_type": "stream",
     "text": [
      "8.0\n",
      "4.0\n",
      "4\n",
      "2.718281828459045\n",
      "1.718281828459045\n",
      "2.302585092994046\n",
      "3.321928094887362\n",
      "1.0\n",
      "0.6931471805599453\n"
     ]
    }
   ],
   "source": [
    "# Section 3: Power and Logarithm Functions\n",
    "# These functions help with exponential and logarithmic calculations\n",
    "print(\"2 raised to power 3 equals:\", math.pow(2, 3))\n",
    "print(\"Square root of 16 is:\", math.sqrt(16))\n",
    "print(\"Integer square root of 16 is:\", math.isqrt(16))\n",
    "print(\"e raised to power 1 equals:\", math.exp(1))\n",
    "print(\"e raised to power 1 minus 1 equals:\", math.expm1(1))\n",
    "print(\"Natural logarithm of 10 is:\", math.log(10))\n",
    "print(\"Logarithm base 2 of 10 is:\", math.log2(10))\n",
    "print(\"Logarithm base 10 of 10 is:\", math.log10(10))\n",
    "print(\"Natural logarithm of (1 + 1) is:\", math.log1p(1))"
   ]
  },
  {
   "cell_type": "code",
   "execution_count": 14,
   "metadata": {},
   "outputs": [
    {
     "name": "stdout",
     "output_type": "stream",
     "text": [
      "1.0\n",
      "6.123233995736766e-17\n",
      "1.633123935319537e+16\n",
      "1.5707963267948966\n",
      "0.0\n",
      "0.7853981633974483\n",
      "90.0\n",
      "1.5707963267948966\n",
      "1.1752011936438014\n",
      "1.5430806348152437\n",
      "0.7615941559557649\n",
      "0.881373587019543\n",
      "0.0\n",
      "0.5493061443340549\n",
      "0.8427007929497149\n",
      "0.1572992070502851\n",
      "2.0\n",
      "0.693147180559945\n"
     ]
    }
   ],
   "source": [
    "# Section 4: Trigonometric Functions\n",
    "# These functions help with angle calculations\n",
    "print(\"Sine of 90 degrees (π/2 radians) is:\", math.sin(math.pi/2))\n",
    "print(\"Cosine of 90 degrees is:\", math.cos(math.pi/2))\n",
    "print(\"Tangent of 90 degrees is:\", math.tan(math.pi/2))\n",
    "print(\"Arc sine of 1 (in radians) is:\", math.asin(1))\n",
    "print(\"Arc cosine of 1 (in radians) is:\", math.acos(1))\n",
    "print(\"Arc tangent of 1 (in radians) is:\", math.atan(1))\n",
    "print(\"90 degrees in radians is:\", math.degrees(math.pi/2))\n",
    "print(\"90 degrees converted to radians is:\", math.radians(90))"
   ]
  },
  {
   "cell_type": "code",
   "execution_count": null,
   "metadata": {},
   "outputs": [],
   "source": [
    "# Section 5: Hyperbolic Functions\n",
    "# These are similar to trigonometric functions but for hyperbolas\n",
    "print(\"Hyperbolic sine of 1 is:\", math.sinh(1))\n",
    "print(\"Hyperbolic cosine of 1 is:\", math.cosh(1))\n",
    "print(\"Hyperbolic tangent of 1 is:\", math.tanh(1))\n",
    "print(\"Inverse hyperbolic sine of 1 is:\", math.asinh(1))\n",
    "print(\"Inverse hyperbolic cosine of 1 is:\", math.acosh(1))\n",
    "print(\"Inverse hyperbolic tangent of 0.5 is:\", math.atanh(0.5))"
   ]
  },
  {
   "cell_type": "code",
   "execution_count": null,
   "metadata": {},
   "outputs": [],
   "source": [
    "# Section 6: Special Mathematical Functions\n",
    "# These are advanced mathematical functions\n",
    "print(\"Error function of 1 is:\", math.erf(1))\n",
    "print(\"Complementary error function of 1 is:\", math.erfc(1))\n",
    "print(\"Gamma function of 3 is:\", math.gamma(3))\n",
    "print(\"Natural logarithm of gamma function of 3 is:\", math.lgamma(3))"
   ]
  },
  {
   "cell_type": "code",
   "execution_count": null,
   "metadata": {},
   "outputs": [],
   "source": [
    "# Section 7: Combinatorics and Other Functions\n",
    "# These functions help with counting and other mathematical operations\n",
    "print(\"Factorial of 3 (3!) is:\", math.factorial(3))\n",
    "print(\"Combinations of 5 items taken 2 at a time is:\", math.comb(5, 2))\n",
    "print(\"Permutations of 5 items taken 2 at a time is:\", math.perm(5, 2))\n",
    "print(\"Product of numbers 1 through 5 is:\", math.prod([1, 2, 3, 4, 5]))\n",
    "print(\"Distance between points (1,2) and (3,4) is:\", math.dist([1, 2], [3, 4]))\n",
    "print(\"Greatest common divisor of 12 and 18 is:\", math.gcd(12, 18))\n",
    "print(\"Least common multiple of 12 and 18 is:\", math.lcm(12, 18))\n",
    "print(\"Floating point components of 10 are:\", math.frexp(10))\n",
    "print(\"10 multiplied by 2 to the power of 2 is:\", math.ldexp(10, 2))\n",
    "print(\"Fractional and integer parts of 10 are:\", math.modf(10))\n",
    "print(\"Remainder of 10 divided by 3 is:\", math.fmod(10, 3))"
   ]
  }
 ],
 "metadata": {
  "kernelspec": {
   "display_name": "base",
   "language": "python",
   "name": "python3"
  },
  "language_info": {
   "codemirror_mode": {
    "name": "ipython",
    "version": 3
   },
   "file_extension": ".py",
   "mimetype": "text/x-python",
   "name": "python",
   "nbconvert_exporter": "python",
   "pygments_lexer": "ipython3",
   "version": "3.12.7"
  }
 },
 "nbformat": 4,
 "nbformat_minor": 2
}
